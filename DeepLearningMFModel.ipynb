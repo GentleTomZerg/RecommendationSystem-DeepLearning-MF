{
 "cells": [
  {
   "cell_type": "markdown",
   "metadata": {},
   "source": [
    "### Matrix factoring algorithm in Keras\n",
    "This code is based on the approach outlined in [Alkahest](http://www.fenris.org/)'s blog post [Collaborative Filtering in Keras](http://www.fenris.org/2016/03/07/index-html).\n",
    "![deeplearningmodel](images/deeplearningmodel.png)\n"
   ]
  },
  {
   "cell_type": "markdown",
   "metadata": {},
   "source": [
    "#### Embedding\n",
    "[Word Embedding](https://blog.keras.io/using-pre-trained-word-embeddings-in-a-keras-model.html)\n",
    "are a family of natural language processing techniques aiming at mapping semantic meaning into a geometric space. This is done by associating a numeric vector to every word in a dictionary, such that the distance (e.g. L2 distance or more commonly cosine distance) between any two vectors would capture part of the semantic relationship between the two associated words. The geometric space formed by these vectors is called an embedding space.\n",
    "![embedding](images/embedding.png)\n",
    "\n",
    "As described above, I used embedding layer for sequential models, like sentiment analysis, image recogniztion. Since it can verctorize your phrase or image, also capture their features. But here the reason it used embedding is we can learn a low-dimensional representation (embedding) of user and movie.\n",
    "In general, here is what we want: get a matrix (A [M X N]) containing users and movies for ratings.\n",
    "And here is approach using embedding: we want to estimate low dimensional matrices (W [M X k] and H [M X k]), such that: A≈W.HT\n",
    "\n",
    "Intuitively, we can understand embeddings as low dimensional hidden factors for movies and users. For e.g. say we have 3 dimensional embeddings for both movies and users.\n",
    "\n",
    "For instance, for movie A, the 3 numbers in the movie embedding matrix represent 3 different characteristics about the movie, such as:\n",
    "\n",
    "    How recent is the movie A?\n",
    "    How much special effects are in movie A?\n",
    "    How CGI-driven is movie A?\n",
    "    For user B, the 3 numbers in the user embedding matrix represent:\n",
    "\n",
    "    How much does user B like Drama movie?\n",
    "    How likely does user B to give a 5-star rating?\n",
    "    How often does user B watch movies?"
   ]
  },
  {
   "cell_type": "code",
   "execution_count": null,
   "metadata": {},
   "outputs": [],
   "source": []
  },
  {
   "cell_type": "code",
   "execution_count": null,
   "metadata": {},
   "outputs": [],
   "source": []
  },
  {
   "cell_type": "markdown",
   "metadata": {},
   "source": [
    "### Pre process datasets"
   ]
  },
  {
   "cell_type": "code",
   "execution_count": 3,
   "metadata": {},
   "outputs": [],
   "source": [
    "# Import libraries\n",
    "%matplotlib inline\n",
    "import math\n",
    "import numpy as np\n",
    "import pandas as pd\n",
    "import matplotlib.pyplot as plt\n",
    "from keras.callbacks import ModelCheckpoint, TensorBoard, Callback, EarlyStopping\n",
    "\n",
    "# Reading ratings file\n",
    "ratings = pd.read_csv('rating.csv', sep='\\t', encoding='latin-1', \n",
    "                      usecols=['user_id', 'movie_id', 'user_emb_id', 'movie_emb_id', 'rating'])\n",
    "max_userid = ratings['user_id'].drop_duplicates().max()\n",
    "max_movieid = ratings['movie_id'].drop_duplicates().max()\n",
    "\n",
    "# Reading ratings file\n",
    "users = pd.read_csv('user.csv', sep='\\t', encoding='latin-1', \n",
    "                    usecols=['user_id', 'gender', 'zipcode', 'age_desc', 'occ_desc'])\n",
    "\n",
    "# Reading ratings file\n",
    "movies = pd.read_csv('movie.csv', sep='\\t', encoding='latin-1', \n",
    "                     usecols=['movie_id', 'title', 'genres'])"
   ]
  },
  {
   "cell_type": "code",
   "execution_count": 31,
   "metadata": {},
   "outputs": [
    {
     "name": "stdout",
     "output_type": "stream",
     "text": [
      "[1921 4917  956 ... 2663 1819 5953]\n",
      "(1000209,)\n",
      "[2093 2807 1659 ...  647    0 1274]\n",
      "(1000209,)\n",
      "[4 1 4 ... 4 5 5]\n",
      "(1000209,)\n"
     ]
    }
   ],
   "source": [
    "# Create training set\n",
    "shuffled_ratings = ratings.sample(frac=1., random_state=0)\n",
    "\n",
    "# Shuffling users\n",
    "Users = shuffled_ratings['user_emb_id'].values\n",
    "#print 'Users:', Users, ', shape =', Users.shape\n",
    "print(Users)\n",
    "print(Users.shape)\n",
    "# Shuffling movies\n",
    "Movies = shuffled_ratings['movie_emb_id'].values\n",
    "#print 'Movies:', Movies, ', shape =', Movies.shape\n",
    "print(Movies)\n",
    "print(Movies.shape)\n",
    "\n",
    "# Shuffling ratings\n",
    "Ratings = shuffled_ratings['rating'].values\n",
    "#print 'Ratings:', Ratings, ', shape =', Ratings.shape\n",
    "print(Ratings)\n",
    "print(Ratings.shape)"
   ]
  },
  {
   "cell_type": "markdown",
   "metadata": {},
   "source": [
    "### Create model"
   ]
  },
  {
   "cell_type": "code",
   "execution_count": 41,
   "metadata": {},
   "outputs": [],
   "source": [
    "import keras\n",
    "from IPython.display import SVG\n",
    "from keras.optimizers import Adam\n",
    "from keras.utils.vis_utils import model_to_dot\n",
    "import numpy as np\n",
    "from keras.layers import Embedding, Reshape, dot, Input, concatenate\n",
    "from keras.models import Sequential\n",
    "from keras.models import Model, load_model\n",
    "\n",
    "k_factors = 100\n",
    "\n",
    "def build_model2(K_FACTORS = 3, max_userid = 0 , max_movieid = 0, lr=0.0, lr_d=0.0):\n",
    "    print(K_FACTORS, max_userid, max_movieid)\n",
    "\n",
    "    file_path = \"./best_model.hdf5\"\n",
    "    check_point = ModelCheckpoint(file_path, save_best_only = True)\n",
    "    early_stop = EarlyStopping(monitor = \"val_loss\", patience = 2)\n",
    "    \n",
    "    user_in = Input(shape = (1,))\n",
    "    user_embed = Embedding(max_userid, k_factors, input_length=1)(user_in)\n",
    "    #user_reshape = Reshape((k_factors,))(user_embed)\n",
    "    user_reshape = keras.layers.Flatten(name='FlattenUser')(user_embed)\n",
    "\n",
    "\n",
    "    movie_in = Input(shape = (1,))\n",
    "    movie_embed = Embedding(max_movieid, k_factors, input_length=1)(movie_in)\n",
    "    #movie_reshape = Reshape((k_factors,))(movie_embed)\n",
    "    movie_reshape = keras.layers.Flatten(name='FlattenMovies')(movie_embed)\n",
    "\n",
    "\n",
    "    # The Merge layer takes the dot product of user and movie latent factor vectors to return the corresponding rating.\n",
    "    product = dot([movie_reshape, user_reshape], axes = 1, normalize=False)\n",
    "    model = Model(inputs = [user_in, movie_in], outputs = product)\n",
    "    #model.compile(loss='mse', optimizer = Adam(lr = lr, decay = lr_d))\n",
    "    model.compile(loss='mse', optimizer='adamax')\n",
    "\n",
    "    model.fit([Users, Movies], Ratings, epochs=30, validation_split=.1, verbose=2, callbacks = [check_point])\n",
    "    \n",
    "    model = load_model(file_path)\n",
    "\n",
    "    return model"
   ]
  },
  {
   "cell_type": "code",
   "execution_count": null,
   "metadata": {},
   "outputs": [
    {
     "name": "stdout",
     "output_type": "stream",
     "text": [
      "100 6040 3952\n",
      "Train on 900188 samples, validate on 100021 samples\n",
      "Epoch 1/30\n",
      " - 270s - loss: 8.3572 - val_loss: 2.3240\n",
      "Epoch 2/30\n",
      " - 273s - loss: 1.5022 - val_loss: 1.1421\n",
      "Epoch 3/30\n",
      " - 267s - loss: 1.0045 - val_loss: 0.9466\n",
      "Epoch 4/30\n",
      " - 264s - loss: 0.8909 - val_loss: 0.8803\n",
      "Epoch 5/30\n",
      " - 265s - loss: 0.8422 - val_loss: 0.8474\n",
      "Epoch 6/30\n",
      " - 268s - loss: 0.8107 - val_loss: 0.8261\n",
      "Epoch 7/30\n",
      " - 267s - loss: 0.7862 - val_loss: 0.8097\n",
      "Epoch 8/30\n",
      " - 267s - loss: 0.7645 - val_loss: 0.7988\n",
      "Epoch 9/30\n",
      " - 269s - loss: 0.7441 - val_loss: 0.7871\n",
      "Epoch 10/30\n",
      " - 269s - loss: 0.7235 - val_loss: 0.7786\n",
      "Epoch 11/30\n",
      " - 267s - loss: 0.7032 - val_loss: 0.7697\n",
      "Epoch 12/30\n",
      " - 267s - loss: 0.6827 - val_loss: 0.7628\n",
      "Epoch 13/30\n",
      " - 277s - loss: 0.6626 - val_loss: 0.7578\n",
      "Epoch 14/30\n",
      " - 272s - loss: 0.6421 - val_loss: 0.7542\n",
      "Epoch 15/30\n",
      " - 267s - loss: 0.6213 - val_loss: 0.7514\n",
      "Epoch 16/30\n",
      " - 275s - loss: 0.6005 - val_loss: 0.7517\n",
      "Epoch 17/30\n"
     ]
    }
   ],
   "source": [
    "trained_model = build_model2(max_userid = max_userid, max_movieid = max_movieid, K_FACTORS = 100)\n"
   ]
  },
  {
   "cell_type": "code",
   "execution_count": 34,
   "metadata": {},
   "outputs": [
    {
     "name": "stdout",
     "output_type": "stream",
     "text": [
      "__________________________________________________________________________________________________\n",
      "Layer (type)                    Output Shape         Param #     Connected to                     \n",
      "==================================================================================================\n",
      "input_16 (InputLayer)           (None, 1)            0                                            \n",
      "__________________________________________________________________________________________________\n",
      "input_15 (InputLayer)           (None, 1)            0                                            \n",
      "__________________________________________________________________________________________________\n",
      "embedding_16 (Embedding)        (None, 1, 100)       395200      input_16[0][0]                   \n",
      "__________________________________________________________________________________________________\n",
      "embedding_15 (Embedding)        (None, 1, 100)       604000      input_15[0][0]                   \n",
      "__________________________________________________________________________________________________\n",
      "FlattenMovies (Flatten)         (None, 100)          0           embedding_16[0][0]               \n",
      "__________________________________________________________________________________________________\n",
      "FlattenUser (Flatten)           (None, 100)          0           embedding_15[0][0]               \n",
      "__________________________________________________________________________________________________\n",
      "dot_8 (Dot)                     (None, 1)            0           FlattenMovies[0][0]              \n",
      "                                                                 FlattenUser[0][0]                \n",
      "==================================================================================================\n",
      "Total params: 999,200\n",
      "Trainable params: 999,200\n",
      "Non-trainable params: 0\n",
      "__________________________________________________________________________________________________\n"
     ]
    }
   ],
   "source": [
    "trained_model.summary()\n"
   ]
  },
  {
   "cell_type": "markdown",
   "metadata": {},
   "source": [
    "### Visualize the Arch"
   ]
  },
  {
   "cell_type": "code",
   "execution_count": 35,
   "metadata": {},
   "outputs": [
    {
     "data": {
      "image/svg+xml": [
       "<svg height=\"296pt\" viewBox=\"0.00 0.00 674.46 296.00\" width=\"674pt\" xmlns=\"http://www.w3.org/2000/svg\" xmlns:xlink=\"http://www.w3.org/1999/xlink\">\n",
       "<g class=\"graph\" id=\"graph0\" transform=\"scale(1 1) rotate(0) translate(4 292)\">\n",
       "<title>G</title>\n",
       "<polygon fill=\"#ffffff\" points=\"-4,4 -4,-292 670.459,-292 670.459,4 -4,4\" stroke=\"transparent\"/>\n",
       "<!-- 48139951240 -->\n",
       "<g class=\"node\" id=\"node1\">\n",
       "<title>48139951240</title>\n",
       "<polygon fill=\"none\" points=\"31.8896,-243.5 31.8896,-287.5 292.5693,-287.5 292.5693,-243.5 31.8896,-243.5\" stroke=\"#000000\"/>\n",
       "<text fill=\"#000000\" font-family=\"Times,serif\" font-size=\"14.00\" text-anchor=\"middle\" x=\"99.5708\" y=\"-261.3\">input_16: InputLayer</text>\n",
       "<polyline fill=\"none\" points=\"167.252,-243.5 167.252,-287.5 \" stroke=\"#000000\"/>\n",
       "<text fill=\"#000000\" font-family=\"Times,serif\" font-size=\"14.00\" text-anchor=\"middle\" x=\"195.0864\" y=\"-272.3\">input:</text>\n",
       "<polyline fill=\"none\" points=\"167.252,-265.5 222.9209,-265.5 \" stroke=\"#000000\"/>\n",
       "<text fill=\"#000000\" font-family=\"Times,serif\" font-size=\"14.00\" text-anchor=\"middle\" x=\"195.0864\" y=\"-250.3\">output:</text>\n",
       "<polyline fill=\"none\" points=\"222.9209,-243.5 222.9209,-287.5 \" stroke=\"#000000\"/>\n",
       "<text fill=\"#000000\" font-family=\"Times,serif\" font-size=\"14.00\" text-anchor=\"middle\" x=\"257.7451\" y=\"-272.3\">(None, 1)</text>\n",
       "<polyline fill=\"none\" points=\"222.9209,-265.5 292.5693,-265.5 \" stroke=\"#000000\"/>\n",
       "<text fill=\"#000000\" font-family=\"Times,serif\" font-size=\"14.00\" text-anchor=\"middle\" x=\"257.7451\" y=\"-250.3\">(None, 1)</text>\n",
       "</g>\n",
       "<!-- 48139952080 -->\n",
       "<g class=\"node\" id=\"node3\">\n",
       "<title>48139952080</title>\n",
       "<polygon fill=\"none\" points=\"0,-162.5 0,-206.5 324.459,-206.5 324.459,-162.5 0,-162.5\" stroke=\"#000000\"/>\n",
       "<text fill=\"#000000\" font-family=\"Times,serif\" font-size=\"14.00\" text-anchor=\"middle\" x=\"85.5708\" y=\"-180.3\">embedding_16: Embedding</text>\n",
       "<polyline fill=\"none\" points=\"171.1416,-162.5 171.1416,-206.5 \" stroke=\"#000000\"/>\n",
       "<text fill=\"#000000\" font-family=\"Times,serif\" font-size=\"14.00\" text-anchor=\"middle\" x=\"198.9761\" y=\"-191.3\">input:</text>\n",
       "<polyline fill=\"none\" points=\"171.1416,-184.5 226.8105,-184.5 \" stroke=\"#000000\"/>\n",
       "<text fill=\"#000000\" font-family=\"Times,serif\" font-size=\"14.00\" text-anchor=\"middle\" x=\"198.9761\" y=\"-169.3\">output:</text>\n",
       "<polyline fill=\"none\" points=\"226.8105,-162.5 226.8105,-206.5 \" stroke=\"#000000\"/>\n",
       "<text fill=\"#000000\" font-family=\"Times,serif\" font-size=\"14.00\" text-anchor=\"middle\" x=\"275.6348\" y=\"-191.3\">(None, 1)</text>\n",
       "<polyline fill=\"none\" points=\"226.8105,-184.5 324.459,-184.5 \" stroke=\"#000000\"/>\n",
       "<text fill=\"#000000\" font-family=\"Times,serif\" font-size=\"14.00\" text-anchor=\"middle\" x=\"275.6348\" y=\"-169.3\">(None, 1, 100)</text>\n",
       "</g>\n",
       "<!-- 48139951240&#45;&gt;48139952080 -->\n",
       "<g class=\"edge\" id=\"edge1\">\n",
       "<title>48139951240-&gt;48139952080</title>\n",
       "<path d=\"M162.2295,-243.3664C162.2295,-235.1516 162.2295,-225.6579 162.2295,-216.7252\" fill=\"none\" stroke=\"#000000\"/>\n",
       "<polygon fill=\"#000000\" points=\"165.7296,-216.6068 162.2295,-206.6068 158.7296,-216.6069 165.7296,-216.6068\" stroke=\"#000000\"/>\n",
       "</g>\n",
       "<!-- 48139949000 -->\n",
       "<g class=\"node\" id=\"node2\">\n",
       "<title>48139949000</title>\n",
       "<polygon fill=\"none\" points=\"373.8896,-243.5 373.8896,-287.5 634.5693,-287.5 634.5693,-243.5 373.8896,-243.5\" stroke=\"#000000\"/>\n",
       "<text fill=\"#000000\" font-family=\"Times,serif\" font-size=\"14.00\" text-anchor=\"middle\" x=\"441.5708\" y=\"-261.3\">input_15: InputLayer</text>\n",
       "<polyline fill=\"none\" points=\"509.252,-243.5 509.252,-287.5 \" stroke=\"#000000\"/>\n",
       "<text fill=\"#000000\" font-family=\"Times,serif\" font-size=\"14.00\" text-anchor=\"middle\" x=\"537.0864\" y=\"-272.3\">input:</text>\n",
       "<polyline fill=\"none\" points=\"509.252,-265.5 564.9209,-265.5 \" stroke=\"#000000\"/>\n",
       "<text fill=\"#000000\" font-family=\"Times,serif\" font-size=\"14.00\" text-anchor=\"middle\" x=\"537.0864\" y=\"-250.3\">output:</text>\n",
       "<polyline fill=\"none\" points=\"564.9209,-243.5 564.9209,-287.5 \" stroke=\"#000000\"/>\n",
       "<text fill=\"#000000\" font-family=\"Times,serif\" font-size=\"14.00\" text-anchor=\"middle\" x=\"599.7451\" y=\"-272.3\">(None, 1)</text>\n",
       "<polyline fill=\"none\" points=\"564.9209,-265.5 634.5693,-265.5 \" stroke=\"#000000\"/>\n",
       "<text fill=\"#000000\" font-family=\"Times,serif\" font-size=\"14.00\" text-anchor=\"middle\" x=\"599.7451\" y=\"-250.3\">(None, 1)</text>\n",
       "</g>\n",
       "<!-- 48139950008 -->\n",
       "<g class=\"node\" id=\"node4\">\n",
       "<title>48139950008</title>\n",
       "<polygon fill=\"none\" points=\"342,-162.5 342,-206.5 666.459,-206.5 666.459,-162.5 342,-162.5\" stroke=\"#000000\"/>\n",
       "<text fill=\"#000000\" font-family=\"Times,serif\" font-size=\"14.00\" text-anchor=\"middle\" x=\"427.5708\" y=\"-180.3\">embedding_15: Embedding</text>\n",
       "<polyline fill=\"none\" points=\"513.1416,-162.5 513.1416,-206.5 \" stroke=\"#000000\"/>\n",
       "<text fill=\"#000000\" font-family=\"Times,serif\" font-size=\"14.00\" text-anchor=\"middle\" x=\"540.9761\" y=\"-191.3\">input:</text>\n",
       "<polyline fill=\"none\" points=\"513.1416,-184.5 568.8105,-184.5 \" stroke=\"#000000\"/>\n",
       "<text fill=\"#000000\" font-family=\"Times,serif\" font-size=\"14.00\" text-anchor=\"middle\" x=\"540.9761\" y=\"-169.3\">output:</text>\n",
       "<polyline fill=\"none\" points=\"568.8105,-162.5 568.8105,-206.5 \" stroke=\"#000000\"/>\n",
       "<text fill=\"#000000\" font-family=\"Times,serif\" font-size=\"14.00\" text-anchor=\"middle\" x=\"617.6348\" y=\"-191.3\">(None, 1)</text>\n",
       "<polyline fill=\"none\" points=\"568.8105,-184.5 666.459,-184.5 \" stroke=\"#000000\"/>\n",
       "<text fill=\"#000000\" font-family=\"Times,serif\" font-size=\"14.00\" text-anchor=\"middle\" x=\"617.6348\" y=\"-169.3\">(None, 1, 100)</text>\n",
       "</g>\n",
       "<!-- 48139949000&#45;&gt;48139950008 -->\n",
       "<g class=\"edge\" id=\"edge2\">\n",
       "<title>48139949000-&gt;48139950008</title>\n",
       "<path d=\"M504.2295,-243.3664C504.2295,-235.1516 504.2295,-225.6579 504.2295,-216.7252\" fill=\"none\" stroke=\"#000000\"/>\n",
       "<polygon fill=\"#000000\" points=\"507.7296,-216.6068 504.2295,-206.6068 500.7296,-216.6069 507.7296,-216.6068\" stroke=\"#000000\"/>\n",
       "</g>\n",
       "<!-- 48139948776 -->\n",
       "<g class=\"node\" id=\"node5\">\n",
       "<title>48139948776</title>\n",
       "<polygon fill=\"none\" points=\"30.9932,-81.5 30.9932,-125.5 327.4658,-125.5 327.4658,-81.5 30.9932,-81.5\" stroke=\"#000000\"/>\n",
       "<text fill=\"#000000\" font-family=\"Times,serif\" font-size=\"14.00\" text-anchor=\"middle\" x=\"102.5708\" y=\"-99.3\">FlattenMovies: Flatten</text>\n",
       "<polyline fill=\"none\" points=\"174.1484,-81.5 174.1484,-125.5 \" stroke=\"#000000\"/>\n",
       "<text fill=\"#000000\" font-family=\"Times,serif\" font-size=\"14.00\" text-anchor=\"middle\" x=\"201.9829\" y=\"-110.3\">input:</text>\n",
       "<polyline fill=\"none\" points=\"174.1484,-103.5 229.8174,-103.5 \" stroke=\"#000000\"/>\n",
       "<text fill=\"#000000\" font-family=\"Times,serif\" font-size=\"14.00\" text-anchor=\"middle\" x=\"201.9829\" y=\"-88.3\">output:</text>\n",
       "<polyline fill=\"none\" points=\"229.8174,-81.5 229.8174,-125.5 \" stroke=\"#000000\"/>\n",
       "<text fill=\"#000000\" font-family=\"Times,serif\" font-size=\"14.00\" text-anchor=\"middle\" x=\"278.6416\" y=\"-110.3\">(None, 1, 100)</text>\n",
       "<polyline fill=\"none\" points=\"229.8174,-103.5 327.4658,-103.5 \" stroke=\"#000000\"/>\n",
       "<text fill=\"#000000\" font-family=\"Times,serif\" font-size=\"14.00\" text-anchor=\"middle\" x=\"278.6416\" y=\"-88.3\">(None, 100)</text>\n",
       "</g>\n",
       "<!-- 48139952080&#45;&gt;48139948776 -->\n",
       "<g class=\"edge\" id=\"edge3\">\n",
       "<title>48139952080-&gt;48139948776</title>\n",
       "<path d=\"M166.8748,-162.3664C168.6176,-154.0624 170.6348,-144.4514 172.5273,-135.4341\" fill=\"none\" stroke=\"#000000\"/>\n",
       "<polygon fill=\"#000000\" points=\"175.9611,-136.1126 174.5898,-125.6068 169.1103,-134.6747 175.9611,-136.1126\" stroke=\"#000000\"/>\n",
       "</g>\n",
       "<!-- 48139952024 -->\n",
       "<g class=\"node\" id=\"node6\">\n",
       "<title>48139952024</title>\n",
       "<polygon fill=\"none\" points=\"354.7759,-81.5 354.7759,-125.5 635.6831,-125.5 635.6831,-81.5 354.7759,-81.5\" stroke=\"#000000\"/>\n",
       "<text fill=\"#000000\" font-family=\"Times,serif\" font-size=\"14.00\" text-anchor=\"middle\" x=\"418.5708\" y=\"-99.3\">FlattenUser: Flatten</text>\n",
       "<polyline fill=\"none\" points=\"482.3657,-81.5 482.3657,-125.5 \" stroke=\"#000000\"/>\n",
       "<text fill=\"#000000\" font-family=\"Times,serif\" font-size=\"14.00\" text-anchor=\"middle\" x=\"510.2002\" y=\"-110.3\">input:</text>\n",
       "<polyline fill=\"none\" points=\"482.3657,-103.5 538.0347,-103.5 \" stroke=\"#000000\"/>\n",
       "<text fill=\"#000000\" font-family=\"Times,serif\" font-size=\"14.00\" text-anchor=\"middle\" x=\"510.2002\" y=\"-88.3\">output:</text>\n",
       "<polyline fill=\"none\" points=\"538.0347,-81.5 538.0347,-125.5 \" stroke=\"#000000\"/>\n",
       "<text fill=\"#000000\" font-family=\"Times,serif\" font-size=\"14.00\" text-anchor=\"middle\" x=\"586.8589\" y=\"-110.3\">(None, 1, 100)</text>\n",
       "<polyline fill=\"none\" points=\"538.0347,-103.5 635.6831,-103.5 \" stroke=\"#000000\"/>\n",
       "<text fill=\"#000000\" font-family=\"Times,serif\" font-size=\"14.00\" text-anchor=\"middle\" x=\"586.8589\" y=\"-88.3\">(None, 100)</text>\n",
       "</g>\n",
       "<!-- 48139950008&#45;&gt;48139952024 -->\n",
       "<g class=\"edge\" id=\"edge4\">\n",
       "<title>48139950008-&gt;48139952024</title>\n",
       "<path d=\"M501.7702,-162.3664C500.8575,-154.1516 499.8026,-144.6579 498.8101,-135.7252\" fill=\"none\" stroke=\"#000000\"/>\n",
       "<polygon fill=\"#000000\" points=\"502.2688,-135.1591 497.6858,-125.6068 495.3116,-135.9322 502.2688,-135.1591\" stroke=\"#000000\"/>\n",
       "</g>\n",
       "<!-- 48139950904 -->\n",
       "<g class=\"node\" id=\"node7\">\n",
       "<title>48139950904</title>\n",
       "<polygon fill=\"none\" points=\"182.4448,-.5 182.4448,-44.5 482.0142,-44.5 482.0142,-.5 182.4448,-.5\" stroke=\"#000000\"/>\n",
       "<text fill=\"#000000\" font-family=\"Times,serif\" font-size=\"14.00\" text-anchor=\"middle\" x=\"220.5845\" y=\"-18.3\">dot_8: Dot</text>\n",
       "<polyline fill=\"none\" points=\"258.7241,-.5 258.7241,-44.5 \" stroke=\"#000000\"/>\n",
       "<text fill=\"#000000\" font-family=\"Times,serif\" font-size=\"14.00\" text-anchor=\"middle\" x=\"286.5586\" y=\"-29.3\">input:</text>\n",
       "<polyline fill=\"none\" points=\"258.7241,-22.5 314.3931,-22.5 \" stroke=\"#000000\"/>\n",
       "<text fill=\"#000000\" font-family=\"Times,serif\" font-size=\"14.00\" text-anchor=\"middle\" x=\"286.5586\" y=\"-7.3\">output:</text>\n",
       "<polyline fill=\"none\" points=\"314.3931,-.5 314.3931,-44.5 \" stroke=\"#000000\"/>\n",
       "<text fill=\"#000000\" font-family=\"Times,serif\" font-size=\"14.00\" text-anchor=\"middle\" x=\"398.2036\" y=\"-29.3\">[(None, 100), (None, 100)]</text>\n",
       "<polyline fill=\"none\" points=\"314.3931,-22.5 482.0142,-22.5 \" stroke=\"#000000\"/>\n",
       "<text fill=\"#000000\" font-family=\"Times,serif\" font-size=\"14.00\" text-anchor=\"middle\" x=\"397.7173\" y=\"-7.3\">(None, 1)</text>\n",
       "</g>\n",
       "<!-- 48139948776&#45;&gt;48139950904 -->\n",
       "<g class=\"edge\" id=\"edge5\">\n",
       "<title>48139948776-&gt;48139950904</title>\n",
       "<path d=\"M221.0374,-81.3664C239.6744,-71.4998 261.7965,-59.7881 281.3817,-49.4194\" fill=\"none\" stroke=\"#000000\"/>\n",
       "<polygon fill=\"#000000\" points=\"283.2719,-52.379 290.4721,-44.6068 279.9966,-46.1925 283.2719,-52.379\" stroke=\"#000000\"/>\n",
       "</g>\n",
       "<!-- 48139952024&#45;&gt;48139950904 -->\n",
       "<g class=\"edge\" id=\"edge6\">\n",
       "<title>48139952024-&gt;48139950904</title>\n",
       "<path d=\"M450.689,-81.3664C430.6543,-71.4105 406.8391,-59.5759 385.8348,-49.1382\" fill=\"none\" stroke=\"#000000\"/>\n",
       "<polygon fill=\"#000000\" points=\"387.2289,-45.9227 376.7161,-44.6068 384.1138,-52.1914 387.2289,-45.9227\" stroke=\"#000000\"/>\n",
       "</g>\n",
       "</g>\n",
       "</svg>"
      ],
      "text/plain": [
       "<IPython.core.display.SVG object>"
      ]
     },
     "execution_count": 35,
     "metadata": {},
     "output_type": "execute_result"
    }
   ],
   "source": [
    "from IPython.display import SVG\n",
    "from keras.utils.vis_utils import model_to_dot\n",
    "\n",
    "SVG(model_to_dot(trained_model,  show_shapes=True, show_layer_names=True, rankdir='HB').create(prog='dot', format='svg'))\n"
   ]
  },
  {
   "cell_type": "markdown",
   "metadata": {},
   "source": [
    "### Train the Model"
   ]
  },
  {
   "cell_type": "code",
   "execution_count": 37,
   "metadata": {},
   "outputs": [],
   "source": [
    "# Function to predict the ratings given User ID and Movie ID\n",
    "def predict_rating(user_id, movie_id):\n",
    "    return trained_model.predict([np.array([user_id]), np.array([movie_id])])"
   ]
  },
  {
   "cell_type": "code",
   "execution_count": 38,
   "metadata": {},
   "outputs": [
    {
     "data": {
      "text/plain": [
       "array([[3.3459005]], dtype=float32)"
      ]
     },
     "execution_count": 38,
     "metadata": {},
     "output_type": "execute_result"
    }
   ],
   "source": [
    "predict_rating(1,1)"
   ]
  },
  {
   "cell_type": "code",
   "execution_count": 39,
   "metadata": {},
   "outputs": [],
   "source": [
    "user_ratings = ratings[ratings['user_id'] == TEST_USER][['user_id', 'movie_id', 'rating']]\n",
    "\n",
    "for index, row in user_ratings.iterrows():\n",
    "    rate = predict_rating(row['movie_id'], TEST_USER)\n",
    "    user_ratings['prediction'] = rate[0][0]\n"
   ]
  },
  {
   "cell_type": "code",
   "execution_count": null,
   "metadata": {},
   "outputs": [],
   "source": [
    "user_ratings.sort_values(by='rating', \n",
    "                         ascending=False).merge(movies, \n",
    "                                                on='movie_id', \n",
    "                                                how='inner', \n",
    "                                                suffixes=['_u', '_m']).head(100)"
   ]
  },
  {
   "cell_type": "code",
   "execution_count": 87,
   "metadata": {},
   "outputs": [
    {
     "ename": "AttributeError",
     "evalue": "(\"'Model' object has no attribute 'rate'\", 'occurred at index 1')",
     "output_type": "error",
     "traceback": [
      "\u001b[0;31m---------------------------------------------------\u001b[0m",
      "\u001b[0;31mAttributeError\u001b[0m    Traceback (most recent call last)",
      "\u001b[0;32m<ipython-input-87-8d3321ed92a3>\u001b[0m in \u001b[0;36m<module>\u001b[0;34m\u001b[0m\n\u001b[1;32m      1\u001b[0m \u001b[0;34m\u001b[0m\u001b[0m\n\u001b[1;32m      2\u001b[0m \u001b[0mrecommendations\u001b[0m \u001b[0;34m=\u001b[0m \u001b[0mratings\u001b[0m\u001b[0;34m[\u001b[0m\u001b[0mratings\u001b[0m\u001b[0;34m[\u001b[0m\u001b[0;34m'movie_id'\u001b[0m\u001b[0;34m]\u001b[0m\u001b[0;34m.\u001b[0m\u001b[0misin\u001b[0m\u001b[0;34m(\u001b[0m\u001b[0muser_ratings\u001b[0m\u001b[0;34m[\u001b[0m\u001b[0;34m'movie_id'\u001b[0m\u001b[0;34m]\u001b[0m\u001b[0;34m)\u001b[0m \u001b[0;34m==\u001b[0m \u001b[0;32mFalse\u001b[0m\u001b[0;34m]\u001b[0m\u001b[0;34m[\u001b[0m\u001b[0;34m[\u001b[0m\u001b[0;34m'movie_id'\u001b[0m\u001b[0;34m]\u001b[0m\u001b[0;34m]\u001b[0m\u001b[0;34m.\u001b[0m\u001b[0mdrop_duplicates\u001b[0m\u001b[0;34m(\u001b[0m\u001b[0;34m)\u001b[0m\u001b[0;34m\u001b[0m\u001b[0m\n\u001b[0;32m----> 3\u001b[0;31m \u001b[0mrecommendations\u001b[0m\u001b[0;34m[\u001b[0m\u001b[0;34m'prediction'\u001b[0m\u001b[0;34m]\u001b[0m \u001b[0;34m=\u001b[0m \u001b[0mrecommendations\u001b[0m\u001b[0;34m.\u001b[0m\u001b[0mapply\u001b[0m\u001b[0;34m(\u001b[0m\u001b[0;32mlambda\u001b[0m \u001b[0mx\u001b[0m\u001b[0;34m:\u001b[0m \u001b[0mpredict_rating\u001b[0m\u001b[0;34m(\u001b[0m\u001b[0mTEST_USER\u001b[0m\u001b[0;34m,\u001b[0m \u001b[0mx\u001b[0m\u001b[0;34m[\u001b[0m\u001b[0;34m'movie_id'\u001b[0m\u001b[0;34m]\u001b[0m\u001b[0;34m)\u001b[0m\u001b[0;34m,\u001b[0m \u001b[0maxis\u001b[0m\u001b[0;34m=\u001b[0m\u001b[0;36m1\u001b[0m\u001b[0;34m)\u001b[0m\u001b[0;34m\u001b[0m\u001b[0m\n\u001b[0m\u001b[1;32m      4\u001b[0m recommendations.sort_values(by='prediction',\n\u001b[1;32m      5\u001b[0m                           \u001b[0mascending\u001b[0m\u001b[0;34m=\u001b[0m\u001b[0;32mFalse\u001b[0m\u001b[0;34m)\u001b[0m\u001b[0;34m.\u001b[0m\u001b[0mmerge\u001b[0m\u001b[0;34m(\u001b[0m\u001b[0mmovies\u001b[0m\u001b[0;34m,\u001b[0m\u001b[0;34m\u001b[0m\u001b[0m\n",
      "\u001b[0;32m~/anaconda3/lib/python3.6/site-packages/pandas/core/frame.py\u001b[0m in \u001b[0;36mapply\u001b[0;34m(self, func, axis, broadcast, raw, reduce, result_type, args, **kwds)\u001b[0m\n\u001b[1;32m   6002\u001b[0m                          \u001b[0margs\u001b[0m\u001b[0;34m=\u001b[0m\u001b[0margs\u001b[0m\u001b[0;34m,\u001b[0m\u001b[0;34m\u001b[0m\u001b[0m\n\u001b[1;32m   6003\u001b[0m                          kwds=kwds)\n\u001b[0;32m-> 6004\u001b[0;31m         \u001b[0;32mreturn\u001b[0m \u001b[0mop\u001b[0m\u001b[0;34m.\u001b[0m\u001b[0mget_result\u001b[0m\u001b[0;34m(\u001b[0m\u001b[0;34m)\u001b[0m\u001b[0;34m\u001b[0m\u001b[0m\n\u001b[0m\u001b[1;32m   6005\u001b[0m \u001b[0;34m\u001b[0m\u001b[0m\n\u001b[1;32m   6006\u001b[0m     \u001b[0;32mdef\u001b[0m \u001b[0mapplymap\u001b[0m\u001b[0;34m(\u001b[0m\u001b[0mself\u001b[0m\u001b[0;34m,\u001b[0m \u001b[0mfunc\u001b[0m\u001b[0;34m)\u001b[0m\u001b[0;34m:\u001b[0m\u001b[0;34m\u001b[0m\u001b[0m\n",
      "\u001b[0;32m~/anaconda3/lib/python3.6/site-packages/pandas/core/apply.py\u001b[0m in \u001b[0;36mget_result\u001b[0;34m(self)\u001b[0m\n\u001b[1;32m    140\u001b[0m             \u001b[0;32mreturn\u001b[0m \u001b[0mself\u001b[0m\u001b[0;34m.\u001b[0m\u001b[0mapply_raw\u001b[0m\u001b[0;34m(\u001b[0m\u001b[0;34m)\u001b[0m\u001b[0;34m\u001b[0m\u001b[0m\n\u001b[1;32m    141\u001b[0m \u001b[0;34m\u001b[0m\u001b[0m\n\u001b[0;32m--> 142\u001b[0;31m         \u001b[0;32mreturn\u001b[0m \u001b[0mself\u001b[0m\u001b[0;34m.\u001b[0m\u001b[0mapply_standard\u001b[0m\u001b[0;34m(\u001b[0m\u001b[0;34m)\u001b[0m\u001b[0;34m\u001b[0m\u001b[0m\n\u001b[0m\u001b[1;32m    143\u001b[0m \u001b[0;34m\u001b[0m\u001b[0m\n\u001b[1;32m    144\u001b[0m     \u001b[0;32mdef\u001b[0m \u001b[0mapply_empty_result\u001b[0m\u001b[0;34m(\u001b[0m\u001b[0mself\u001b[0m\u001b[0;34m)\u001b[0m\u001b[0;34m:\u001b[0m\u001b[0;34m\u001b[0m\u001b[0m\n",
      "\u001b[0;32m~/anaconda3/lib/python3.6/site-packages/pandas/core/apply.py\u001b[0m in \u001b[0;36mapply_standard\u001b[0;34m(self)\u001b[0m\n\u001b[1;32m    246\u001b[0m \u001b[0;34m\u001b[0m\u001b[0m\n\u001b[1;32m    247\u001b[0m         \u001b[0;31m# compute the result using the series generator\u001b[0m\u001b[0;34m\u001b[0m\u001b[0;34m\u001b[0m\u001b[0m\n\u001b[0;32m--> 248\u001b[0;31m         \u001b[0mself\u001b[0m\u001b[0;34m.\u001b[0m\u001b[0mapply_series_generator\u001b[0m\u001b[0;34m(\u001b[0m\u001b[0;34m)\u001b[0m\u001b[0;34m\u001b[0m\u001b[0m\n\u001b[0m\u001b[1;32m    249\u001b[0m \u001b[0;34m\u001b[0m\u001b[0m\n\u001b[1;32m    250\u001b[0m         \u001b[0;31m# wrap results\u001b[0m\u001b[0;34m\u001b[0m\u001b[0;34m\u001b[0m\u001b[0m\n",
      "\u001b[0;32m~/anaconda3/lib/python3.6/site-packages/pandas/core/apply.py\u001b[0m in \u001b[0;36mapply_series_generator\u001b[0;34m(self)\u001b[0m\n\u001b[1;32m    275\u001b[0m             \u001b[0;32mtry\u001b[0m\u001b[0;34m:\u001b[0m\u001b[0;34m\u001b[0m\u001b[0m\n\u001b[1;32m    276\u001b[0m                 \u001b[0;32mfor\u001b[0m \u001b[0mi\u001b[0m\u001b[0;34m,\u001b[0m \u001b[0mv\u001b[0m \u001b[0;32min\u001b[0m \u001b[0menumerate\u001b[0m\u001b[0;34m(\u001b[0m\u001b[0mseries_gen\u001b[0m\u001b[0;34m)\u001b[0m\u001b[0;34m:\u001b[0m\u001b[0;34m\u001b[0m\u001b[0m\n\u001b[0;32m--> 277\u001b[0;31m                     \u001b[0mresults\u001b[0m\u001b[0;34m[\u001b[0m\u001b[0mi\u001b[0m\u001b[0;34m]\u001b[0m \u001b[0;34m=\u001b[0m \u001b[0mself\u001b[0m\u001b[0;34m.\u001b[0m\u001b[0mf\u001b[0m\u001b[0;34m(\u001b[0m\u001b[0mv\u001b[0m\u001b[0;34m)\u001b[0m\u001b[0;34m\u001b[0m\u001b[0m\n\u001b[0m\u001b[1;32m    278\u001b[0m                     \u001b[0mkeys\u001b[0m\u001b[0;34m.\u001b[0m\u001b[0mappend\u001b[0m\u001b[0;34m(\u001b[0m\u001b[0mv\u001b[0m\u001b[0;34m.\u001b[0m\u001b[0mname\u001b[0m\u001b[0;34m)\u001b[0m\u001b[0;34m\u001b[0m\u001b[0m\n\u001b[1;32m    279\u001b[0m             \u001b[0;32mexcept\u001b[0m \u001b[0mException\u001b[0m \u001b[0;32mas\u001b[0m \u001b[0me\u001b[0m\u001b[0;34m:\u001b[0m\u001b[0;34m\u001b[0m\u001b[0m\n",
      "\u001b[0;32m<ipython-input-87-8d3321ed92a3>\u001b[0m in \u001b[0;36m<lambda>\u001b[0;34m(x)\u001b[0m\n\u001b[1;32m      1\u001b[0m \u001b[0;34m\u001b[0m\u001b[0m\n\u001b[1;32m      2\u001b[0m \u001b[0mrecommendations\u001b[0m \u001b[0;34m=\u001b[0m \u001b[0mratings\u001b[0m\u001b[0;34m[\u001b[0m\u001b[0mratings\u001b[0m\u001b[0;34m[\u001b[0m\u001b[0;34m'movie_id'\u001b[0m\u001b[0;34m]\u001b[0m\u001b[0;34m.\u001b[0m\u001b[0misin\u001b[0m\u001b[0;34m(\u001b[0m\u001b[0muser_ratings\u001b[0m\u001b[0;34m[\u001b[0m\u001b[0;34m'movie_id'\u001b[0m\u001b[0;34m]\u001b[0m\u001b[0;34m)\u001b[0m \u001b[0;34m==\u001b[0m \u001b[0;32mFalse\u001b[0m\u001b[0;34m]\u001b[0m\u001b[0;34m[\u001b[0m\u001b[0;34m[\u001b[0m\u001b[0;34m'movie_id'\u001b[0m\u001b[0;34m]\u001b[0m\u001b[0;34m]\u001b[0m\u001b[0;34m.\u001b[0m\u001b[0mdrop_duplicates\u001b[0m\u001b[0;34m(\u001b[0m\u001b[0;34m)\u001b[0m\u001b[0;34m\u001b[0m\u001b[0m\n\u001b[0;32m----> 3\u001b[0;31m \u001b[0mrecommendations\u001b[0m\u001b[0;34m[\u001b[0m\u001b[0;34m'prediction'\u001b[0m\u001b[0;34m]\u001b[0m \u001b[0;34m=\u001b[0m \u001b[0mrecommendations\u001b[0m\u001b[0;34m.\u001b[0m\u001b[0mapply\u001b[0m\u001b[0;34m(\u001b[0m\u001b[0;32mlambda\u001b[0m \u001b[0mx\u001b[0m\u001b[0;34m:\u001b[0m \u001b[0mpredict_rating\u001b[0m\u001b[0;34m(\u001b[0m\u001b[0mTEST_USER\u001b[0m\u001b[0;34m,\u001b[0m \u001b[0mx\u001b[0m\u001b[0;34m[\u001b[0m\u001b[0;34m'movie_id'\u001b[0m\u001b[0;34m]\u001b[0m\u001b[0;34m)\u001b[0m\u001b[0;34m,\u001b[0m \u001b[0maxis\u001b[0m\u001b[0;34m=\u001b[0m\u001b[0;36m1\u001b[0m\u001b[0;34m)\u001b[0m\u001b[0;34m\u001b[0m\u001b[0m\n\u001b[0m\u001b[1;32m      4\u001b[0m recommendations.sort_values(by='prediction',\n\u001b[1;32m      5\u001b[0m                           \u001b[0mascending\u001b[0m\u001b[0;34m=\u001b[0m\u001b[0;32mFalse\u001b[0m\u001b[0;34m)\u001b[0m\u001b[0;34m.\u001b[0m\u001b[0mmerge\u001b[0m\u001b[0;34m(\u001b[0m\u001b[0mmovies\u001b[0m\u001b[0;34m,\u001b[0m\u001b[0;34m\u001b[0m\u001b[0m\n",
      "\u001b[0;32m<ipython-input-85-29e0a0cba456>\u001b[0m in \u001b[0;36mpredict_rating\u001b[0;34m(user_id, movie_id)\u001b[0m\n\u001b[1;32m      1\u001b[0m \u001b[0;31m# Function to predict the ratings given User ID and Movie ID\u001b[0m\u001b[0;34m\u001b[0m\u001b[0;34m\u001b[0m\u001b[0m\n\u001b[1;32m      2\u001b[0m \u001b[0;32mdef\u001b[0m \u001b[0mpredict_rating\u001b[0m\u001b[0;34m(\u001b[0m\u001b[0muser_id\u001b[0m\u001b[0;34m,\u001b[0m \u001b[0mmovie_id\u001b[0m\u001b[0;34m)\u001b[0m\u001b[0;34m:\u001b[0m\u001b[0;34m\u001b[0m\u001b[0m\n\u001b[0;32m----> 3\u001b[0;31m     \u001b[0;32mreturn\u001b[0m \u001b[0mtrained_model\u001b[0m\u001b[0;34m.\u001b[0m\u001b[0mrate\u001b[0m\u001b[0;34m(\u001b[0m\u001b[0muser_id\u001b[0m \u001b[0;34m-\u001b[0m \u001b[0;36m1\u001b[0m\u001b[0;34m,\u001b[0m \u001b[0mmovie_id\u001b[0m \u001b[0;34m-\u001b[0m \u001b[0;36m1\u001b[0m\u001b[0;34m)\u001b[0m\u001b[0;34m\u001b[0m\u001b[0m\n\u001b[0m",
      "\u001b[0;31mAttributeError\u001b[0m: (\"'Model' object has no attribute 'rate'\", 'occurred at index 1')"
     ]
    }
   ],
   "source": [
    "\n",
    "recommendations = ratings[ratings['movie_id'].isin(user_ratings['movie_id']) == False][['movie_id']].drop_duplicates()\n",
    "recommendations['prediction'] = recommendations.apply(lambda x: predict_rating(TEST_USER, x['movie_id']), axis=1)\n",
    "recommendations.sort_values(by='prediction',\n",
    "                          ascending=False).merge(movies,\n",
    "                                                 on='movie_id',\n",
    "                                                 how='inner',\n",
    "                                                 suffixes=['_u', '_m']).head(20)"
   ]
  },
  {
   "cell_type": "code",
   "execution_count": null,
   "metadata": {},
   "outputs": [],
   "source": []
  }
 ],
 "metadata": {
  "kernelspec": {
   "display_name": "Python 3",
   "language": "python",
   "name": "python3"
  },
  "language_info": {
   "codemirror_mode": {
    "name": "ipython",
    "version": 3
   },
   "file_extension": ".py",
   "mimetype": "text/x-python",
   "name": "python",
   "nbconvert_exporter": "python",
   "pygments_lexer": "ipython3",
   "version": "3.6.5"
  }
 },
 "nbformat": 4,
 "nbformat_minor": 2
}
